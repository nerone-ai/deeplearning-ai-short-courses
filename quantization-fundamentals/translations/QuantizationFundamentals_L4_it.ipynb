{
 "cells": [
  {
   "cell_type": "markdown",
   "metadata": {},
   "source": [
    "# Lezione 4: Teoria della Quantizzazione\n",
    "\n",
    "**Obiettivo:** Comprendere le tecniche di quantizzazione lineare, implementare la quantizzazione dei pesi, strategie di calibrazione, link a  SOTA papers.\n"
   ]
  },
  {
   "cell_type": "markdown",
   "metadata": {},
   "source": [
    "# 1. Introduzione alla Quantizzazione\n",
    "\n",
    "La quantizzazione è il processo di riduzione della precisione di valori, in genere da un formato di maggiore precisione a uno di minore precisione, che riduce la dimensione del modello e accelera l'inferenza, generalmente con degradazione minima dell'accuratezza.\n",
    "\n",
    "**Perché Quantizzare?**\n",
    "- **Risparmio di memoria:** 32-bit → 8-bit comporta una riduzione di 4× nella dimensione del modello.\n",
    "- **Efficienza di calcolo:** Operazioni intere (INT8) sono più veloci e più energy-efficient su molti acceleratori.\n",
    "- **Deployment:** Modelli più piccoli si adattano a dispositivi edge e riducono i requisiti di banda.\n",
    "\n",
    "**Panoramica della Quantizzazione Lineare:**\n",
    "1. **Stima dell'intervallo:** trova $r_{\\min}$ e $r_{\\max}$ del tensore.\n",
    "2. **Calcolo dei parametri:**  \n",
    "   $$s = \\frac{r_{\\max} - r_{\\min}}{q_{\\max} - q_{\\min}}, \\quad z = \\mathrm{round}\\bigl(-r_{\\min} / s\\bigr).$$\n",
    "3. **Quantizza:**  \n",
    "   $$q = \\mathrm{clip}(\\mathrm{round}(r / s) + z, \\; q_{\\min}, q_{\\max}).$$\n",
    "4. **Dequantizza:**  \n",
    "   $$\\hat r = s\\,(q - z).$$\n",
    "- Qui, $[q_{\\min}, q_{\\max}]$ è tipicamente $[-128, 127]$ per INT8 firmato.\n",
    "- L'**errore di quantizzazione** $\\hat r - r$ può essere mitigato con calibrazione e training.\n"
   ]
  },
  {
   "cell_type": "code",
   "execution_count": 1,
   "metadata": {},
   "outputs": [
    {
     "name": "stdout",
     "output_type": "stream",
     "text": [
      "Scale: 0.0078, Zero-point: 127\n"
     ]
    }
   ],
   "source": [
    "# Funzione per calcolare scala (s) and zero-point (z)\n",
    "def get_quant_params(r_min, r_max, q_min=-128, q_max=127):\n",
    "    \"\"\"\n",
    "    Returns scale s and zero-point z for mapping floats in [r_min, r_max]\n",
    "    to ints in [q_min, q_max].\n",
    "    \"\"\"\n",
    "    s = (r_max - r_min) / (q_max - q_min)\n",
    "    z = int(round(-r_min / s))\n",
    "    z = max(q_min, min(q_max, z))\n",
    "    return s, z\n",
    "\n",
    "# Esempio\n",
    "r_min, r_max = -1.0, 1.0\n",
    "scale, zero_point = get_quant_params(r_min, r_max)\n",
    "print(f\"Scale: {scale:.4f}, Zero-point: {zero_point}\")"
   ]
  },
  {
   "cell_type": "code",
   "execution_count": 2,
   "metadata": {},
   "outputs": [
    {
     "name": "stdout",
     "output_type": "stream",
     "text": [
      "Originale: [-1.         -0.77777778 -0.55555556 -0.33333333 -0.11111111  0.11111111\n",
      "  0.33333333  0.55555556  0.77777778  1.        ]\n",
      "Quantizzato: [ -1  28  56  84 113 127 127 127 127 127]\n",
      "Riconstruito: [-1.0039 -0.7765 -0.5569 -0.3373 -0.1098  0.      0.      0.      0.\n",
      "  0.    ]\n",
      "Errore di ricostruzione: [-0.0039  0.0013 -0.0013 -0.0039  0.0013 -0.1111 -0.3333 -0.5556 -0.7778\n",
      " -1.    ]\n"
     ]
    }
   ],
   "source": [
    "import numpy as np\n",
    "\n",
    "def quantize_tensor(r, s, z, q_min=-128, q_max=127):\n",
    "    q = np.round(r / s) + z\n",
    "    return np.clip(q, q_min, q_max).astype(np.int8)\n",
    "\n",
    "def dequantize_tensor(q, s, z):\n",
    "    return s * (q.astype(np.int32) - z)\n",
    "\n",
    "# Synthetic example\n",
    "tensor = np.linspace(-1, 1, num=10)\n",
    "q_tensor = quantize_tensor(tensor, scale, zero_point)\n",
    "reconstructed = dequantize_tensor(q_tensor, scale, zero_point)\n",
    "\n",
    "print(\"Originale:\", tensor)\n",
    "print(\"Quantizzato:\", q_tensor)\n",
    "print(\"Riconstruito:\", np.round(reconstructed, 4))\n",
    "print(\"Errore di ricostruzione:\", np.round(reconstructed - tensor, 4))"
   ]
  },
  {
   "cell_type": "markdown",
   "metadata": {
    "vscode": {
     "languageId": "plaintext"
    }
   },
   "source": [
    "## 0. Configurazione\n"
   ]
  },
  {
   "cell_type": "code",
   "execution_count": 3,
   "metadata": {},
   "outputs": [],
   "source": [
    "# Installa le librerie richieste\n",
    "#!/pip install transformers==4.35.0\n",
    "#!/pip install quanto==0.0.11\n",
    "#!/pip install torch==2.1.1\n",
    "#!/pip install datasets\n"
   ]
  },
  {
   "cell_type": "code",
   "execution_count": 4,
   "metadata": {},
   "outputs": [],
   "source": [
    "# Import e setup degli helper\n",
    "import torch\n",
    "from transformers import AutoModelForCausalLM, AutoTokenizer\n",
    "from helper import compute_module_sizes\n",
    "import numpy as np\n",
    "from datasets import load_dataset\n"
   ]
  },
  {
   "cell_type": "markdown",
   "metadata": {},
   "source": [
    "## 1. Carica modello\n"
   ]
  },
  {
   "cell_type": "code",
   "execution_count": 5,
   "metadata": {},
   "outputs": [
    {
     "name": "stdout",
     "output_type": "stream",
     "text": [
      "Dimensione del modello FP32: 9.23 GB\n"
     ]
    }
   ],
   "source": [
    "# Carica modello e tokenizer\n",
    "model_name = \"EleutherAI/pythia-410m\"\n",
    "model = AutoModelForCausalLM.from_pretrained(model_name, low_cpu_mem_usage=True)\n",
    "tokenizer = AutoTokenizer.from_pretrained(model_name)\n",
    "\n",
    "# Calcola la dimensione del modello FP32 \n",
    "total_bytes = sum(compute_module_sizes(model).values())\n",
    "print(f\"Dimensione del modello FP32: {total_bytes / 1024**3:.2f} GB\")"
   ]
  },
  {
   "cell_type": "markdown",
   "metadata": {},
   "source": [
    "## 2. Quantizzazione dei pesi con `quanto`\n"
   ]
  },
  {
   "cell_type": "code",
   "execution_count": 6,
   "metadata": {},
   "outputs": [
    {
     "name": "stdout",
     "output_type": "stream",
     "text": [
      "Dimensione del modello INT8: 3.22 GB\n"
     ]
    }
   ],
   "source": [
    "from quanto import quantize, freeze\n",
    "\n",
    "# Applica quantizzazione statica INT8 ai pesi\n",
    "quantize(model, weights=torch.int8, activations=None)\n",
    "\n",
    "# Finalizza il modello quantizzato (freeze modifica il modello in-place)\n",
    "freeze(model)\n",
    "qmodel = model\n",
    "\n",
    "# Calcola la dimensione del modello quantizzato\n",
    "total_q_bytes = sum(compute_module_sizes(qmodel).values())\n",
    "print(f\"Dimensione del modello INT8: {total_q_bytes / 1024**3:.2f} GB\")"
   ]
  },
  {
   "cell_type": "code",
   "execution_count": 7,
   "metadata": {},
   "outputs": [],
   "source": [
    "# Prova con un modello più piccolo come nel tutorial L4: FLAN-T5 small\n",
    "\n",
    "#!pip install sentencepiece==0.2.0"
   ]
  },
  {
   "cell_type": "code",
   "execution_count": 8,
   "metadata": {},
   "outputs": [
    {
     "name": "stderr",
     "output_type": "stream",
     "text": [
      "You are using the default legacy behaviour of the <class 'transformers.models.t5.tokenization_t5.T5Tokenizer'>. This is expected, and simply means that the `legacy` (previous) behavior will be used so nothing changes for you. If you want to use the new behaviour, set `legacy=False`. This should only be set if you understand what it means, and thoroughly read the reason why this was added as explained in https://github.com/huggingface/transformers/pull/24565\n"
     ]
    },
    {
     "name": "stdout",
     "output_type": "stream",
     "text": [
      "FP32 output: annie scott\n",
      "Dimensione del modello FP32: 0.29 GB\n"
     ]
    }
   ],
   "source": [
    "# Prova con un modello più piccolo come nel tutorial L4: FLAN-T5 small\n",
    "\n",
    "# Carica Google FLAN-T5 Small \n",
    "import sentencepiece as spm \n",
    "from transformers import T5Tokenizer, T5ForConditionalGeneration\n",
    "from helper import compute_module_sizes\n",
    "\n",
    "model_name = \"google/flan-t5-small\"\n",
    "tokenizer = T5Tokenizer.from_pretrained(model_name)\n",
    "model = T5ForConditionalGeneration.from_pretrained(model_name)\n",
    "\n",
    "# Genera un esempio di output\n",
    "input_text = \"Hello, my name is \"\n",
    "input_ids = tokenizer(input_text, return_tensors=\"pt\").input_ids\n",
    "outputs = model.generate(input_ids)\n",
    "print(\"FP32 output:\", tokenizer.decode(outputs[0], skip_special_tokens=True))\n",
    "\n",
    "# Calcola la dimensione del modello FP32 \n",
    "module_sizes = compute_module_sizes(model)\n",
    "print(f\"Dimensione del modello FP32: {module_sizes[''] / 1024**3:.2f} GB\")"
   ]
  },
  {
   "cell_type": "code",
   "execution_count": 9,
   "metadata": {},
   "outputs": [
    {
     "name": "stdout",
     "output_type": "stream",
     "text": [
      "T5ForConditionalGeneration(\n",
      "  (shared): Embedding(32128, 512)\n",
      "  (encoder): T5Stack(\n",
      "    (embed_tokens): Embedding(32128, 512)\n",
      "    (block): ModuleList(\n",
      "      (0): T5Block(\n",
      "        (layer): ModuleList(\n",
      "          (0): T5LayerSelfAttention(\n",
      "            (SelfAttention): T5Attention(\n",
      "              (q): QLinear(in_features=512, out_features=384, bias=False)\n",
      "              (k): QLinear(in_features=512, out_features=384, bias=False)\n",
      "              (v): QLinear(in_features=512, out_features=384, bias=False)\n",
      "              (o): QLinear(in_features=384, out_features=512, bias=False)\n",
      "              (relative_attention_bias): Embedding(32, 6)\n",
      "            )\n",
      "            (layer_norm): T5LayerNorm()\n",
      "            (dropout): Dropout(p=0.1, inplace=False)\n",
      "          )\n",
      "          (1): T5LayerFF(\n",
      "            (DenseReluDense): T5DenseGatedActDense(\n",
      "              (wi_0): QLinear(in_features=512, out_features=1024, bias=False)\n",
      "              (wi_1): QLinear(in_features=512, out_features=1024, bias=False)\n",
      "              (wo): QLinear(in_features=1024, out_features=512, bias=False)\n",
      "              (dropout): Dropout(p=0.1, inplace=False)\n",
      "              (act): NewGELUActivation()\n",
      "            )\n",
      "            (layer_norm): T5LayerNorm()\n",
      "            (dropout): Dropout(p=0.1, inplace=False)\n",
      "          )\n",
      "        )\n",
      "      )\n",
      "      (1-7): 7 x T5Block(\n",
      "        (layer): ModuleList(\n",
      "          (0): T5LayerSelfAttention(\n",
      "            (SelfAttention): T5Attention(\n",
      "              (q): QLinear(in_features=512, out_features=384, bias=False)\n",
      "              (k): QLinear(in_features=512, out_features=384, bias=False)\n",
      "              (v): QLinear(in_features=512, out_features=384, bias=False)\n",
      "              (o): QLinear(in_features=384, out_features=512, bias=False)\n",
      "            )\n",
      "            (layer_norm): T5LayerNorm()\n",
      "            (dropout): Dropout(p=0.1, inplace=False)\n",
      "          )\n",
      "          (1): T5LayerFF(\n",
      "            (DenseReluDense): T5DenseGatedActDense(\n",
      "              (wi_0): QLinear(in_features=512, out_features=1024, bias=False)\n",
      "              (wi_1): QLinear(in_features=512, out_features=1024, bias=False)\n",
      "              (wo): QLinear(in_features=1024, out_features=512, bias=False)\n",
      "              (dropout): Dropout(p=0.1, inplace=False)\n",
      "              (act): NewGELUActivation()\n",
      "            )\n",
      "            (layer_norm): T5LayerNorm()\n",
      "            (dropout): Dropout(p=0.1, inplace=False)\n",
      "          )\n",
      "        )\n",
      "      )\n",
      "    )\n",
      "    (final_layer_norm): T5LayerNorm()\n",
      "    (dropout): Dropout(p=0.1, inplace=False)\n",
      "  )\n",
      "  (decoder): T5Stack(\n",
      "    (embed_tokens): Embedding(32128, 512)\n",
      "    (block): ModuleList(\n",
      "      (0): T5Block(\n",
      "        (layer): ModuleList(\n",
      "          (0): T5LayerSelfAttention(\n",
      "            (SelfAttention): T5Attention(\n",
      "              (q): QLinear(in_features=512, out_features=384, bias=False)\n",
      "              (k): QLinear(in_features=512, out_features=384, bias=False)\n",
      "              (v): QLinear(in_features=512, out_features=384, bias=False)\n",
      "              (o): QLinear(in_features=384, out_features=512, bias=False)\n",
      "              (relative_attention_bias): Embedding(32, 6)\n",
      "            )\n",
      "            (layer_norm): T5LayerNorm()\n",
      "            (dropout): Dropout(p=0.1, inplace=False)\n",
      "          )\n",
      "          (1): T5LayerCrossAttention(\n",
      "            (EncDecAttention): T5Attention(\n",
      "              (q): QLinear(in_features=512, out_features=384, bias=False)\n",
      "              (k): QLinear(in_features=512, out_features=384, bias=False)\n",
      "              (v): QLinear(in_features=512, out_features=384, bias=False)\n",
      "              (o): QLinear(in_features=384, out_features=512, bias=False)\n",
      "            )\n",
      "            (layer_norm): T5LayerNorm()\n",
      "            (dropout): Dropout(p=0.1, inplace=False)\n",
      "          )\n",
      "          (2): T5LayerFF(\n",
      "            (DenseReluDense): T5DenseGatedActDense(\n",
      "              (wi_0): QLinear(in_features=512, out_features=1024, bias=False)\n",
      "              (wi_1): QLinear(in_features=512, out_features=1024, bias=False)\n",
      "              (wo): QLinear(in_features=1024, out_features=512, bias=False)\n",
      "              (dropout): Dropout(p=0.1, inplace=False)\n",
      "              (act): NewGELUActivation()\n",
      "            )\n",
      "            (layer_norm): T5LayerNorm()\n",
      "            (dropout): Dropout(p=0.1, inplace=False)\n",
      "          )\n",
      "        )\n",
      "      )\n",
      "      (1-7): 7 x T5Block(\n",
      "        (layer): ModuleList(\n",
      "          (0): T5LayerSelfAttention(\n",
      "            (SelfAttention): T5Attention(\n",
      "              (q): QLinear(in_features=512, out_features=384, bias=False)\n",
      "              (k): QLinear(in_features=512, out_features=384, bias=False)\n",
      "              (v): QLinear(in_features=512, out_features=384, bias=False)\n",
      "              (o): QLinear(in_features=384, out_features=512, bias=False)\n",
      "            )\n",
      "            (layer_norm): T5LayerNorm()\n",
      "            (dropout): Dropout(p=0.1, inplace=False)\n",
      "          )\n",
      "          (1): T5LayerCrossAttention(\n",
      "            (EncDecAttention): T5Attention(\n",
      "              (q): QLinear(in_features=512, out_features=384, bias=False)\n",
      "              (k): QLinear(in_features=512, out_features=384, bias=False)\n",
      "              (v): QLinear(in_features=512, out_features=384, bias=False)\n",
      "              (o): QLinear(in_features=384, out_features=512, bias=False)\n",
      "            )\n",
      "            (layer_norm): T5LayerNorm()\n",
      "            (dropout): Dropout(p=0.1, inplace=False)\n",
      "          )\n",
      "          (2): T5LayerFF(\n",
      "            (DenseReluDense): T5DenseGatedActDense(\n",
      "              (wi_0): QLinear(in_features=512, out_features=1024, bias=False)\n",
      "              (wi_1): QLinear(in_features=512, out_features=1024, bias=False)\n",
      "              (wo): QLinear(in_features=1024, out_features=512, bias=False)\n",
      "              (dropout): Dropout(p=0.1, inplace=False)\n",
      "              (act): NewGELUActivation()\n",
      "            )\n",
      "            (layer_norm): T5LayerNorm()\n",
      "            (dropout): Dropout(p=0.1, inplace=False)\n",
      "          )\n",
      "        )\n",
      "      )\n",
      "    )\n",
      "    (final_layer_norm): T5LayerNorm()\n",
      "    (dropout): Dropout(p=0.1, inplace=False)\n",
      "  )\n",
      "  (lm_head): QLinear(in_features=512, out_features=32128, bias=False)\n",
      ")\n",
      "Dimensione del modello INT8: 0.66 GB\n"
     ]
    }
   ],
   "source": [
    "# Quantizza i pesi di Google FLAN-T5 small a INT8\n",
    "from quanto import quantize, freeze\n",
    "import torch\n",
    "\n",
    "quantize(model, weights=torch.int8, activations=None)\n",
    "\n",
    "# Mostra il modello per confermare quantization wrappers\n",
    "print(model)\n",
    "\n",
    "# Finalizza il modello quantizzato (freeze modifica il modello in-place)\n",
    "freeze(model)\n",
    "qmodel = model\n",
    "\n",
    "# Calcola la dimensione del modello quantizzato\n",
    "total_q_bytes = sum(compute_module_sizes(qmodel).values())\n",
    "print(f\"Dimensione del modello INT8: {total_q_bytes / 1024**3:.2f} GB\")"
   ]
  },
  {
   "cell_type": "code",
   "execution_count": 10,
   "metadata": {},
   "outputs": [
    {
     "name": "stdout",
     "output_type": "stream",
     "text": [
      "FP32 -> annie scott\n",
      "INT8 -> annie scott\n"
     ]
    }
   ],
   "source": [
    "# Confronta gli output di generazione di testo\n",
    "\n",
    "def sample_text(mdl, prompt=\"Hello, my name is\", max_new_tokens=10):\n",
    "    inputs = tokenizer(prompt, return_tensors=\"pt\")\n",
    "    out = mdl.generate(**inputs, max_new_tokens=max_new_tokens)\n",
    "    return tokenizer.decode(out[0], skip_special_tokens=True)\n",
    "\n",
    "print(\"FP32 ->\", sample_text(model))\n",
    "print(\"INT8 ->\", sample_text(qmodel))"
   ]
  },
  {
   "cell_type": "markdown",
   "metadata": {},
   "source": [
    "## 3. Quantizzazione delle Attivazioni e Calibrazione\n"
   ]
  },
  {
   "cell_type": "code",
   "execution_count": 11,
   "metadata": {},
   "outputs": [
    {
     "name": "stdout",
     "output_type": "stream",
     "text": [
      "Found 145 QLinear modules for activation quantization.\n"
     ]
    },
    {
     "name": "stderr",
     "output_type": "stream",
     "text": [
      "Passing a tuple of `past_key_values` is deprecated and will be removed in Transformers v4.48.0. You should pass an instance of `EncoderDecoderCache` instead, e.g. `past_key_values=EncoderDecoderCache.from_legacy_cache(past_key_values)`.\n"
     ]
    },
    {
     "name": "stdout",
     "output_type": "stream",
     "text": [
      "Dimensione del modello calibrato INT8: 0.66 GB\n"
     ]
    }
   ],
   "source": [
    "# La quantizzazione delle attivazioni richiede moduli corrispondenti (es. nn.Linear).\n",
    "# FLAN-T5 usa blocchi personalizzati; le attivazioni potrebbero non essere quantizzate di default.\n",
    "\n",
    "from transformers import T5ForConditionalGeneration\n",
    "# Re-load del modello originale in FP32 \n",
    "model_act = T5ForConditionalGeneration.from_pretrained(model_name)\n",
    "\n",
    "# Quantizza sia i pesi che le attivazioni \n",
    "quantize(model_act, weights=torch.int8, activations=torch.int8)\n",
    "\n",
    "# Verifica quali moduli\n",
    "from quanto.nn.qlinear import QLinear\n",
    "wrapped = [(n, m) for n, m in model_act.named_modules() if isinstance(m, QLinear)]\n",
    "if not wrapped:\n",
    "    print(\"No QLinear modules found. Weight+activation quantization skipped for custom layers.\")\n",
    "else:\n",
    "    print(f\"Found {len(wrapped)} QLinear modules for activation quantization.\")\n",
    "\n",
    "# Prepara texts e batch size per la calibratione\n",
    "texts = load_dataset(\"wikitext\", \"wikitext-2-raw-v1\", split=\"validation\")[\"text\"][:50]\n",
    "batch_size = 8\n",
    "\n",
    "# Calibrazione\n",
    "# Useremo input_ids come decoder_input_ids per soffisfare i forward requirements\n",
    "model_act.eval()\n",
    "with torch.no_grad():\n",
    "    for i in range(0, len(texts), batch_size):\n",
    "        batch_texts = texts[i:i+batch_size]\n",
    "        inputs = tokenizer(batch_texts, return_tensors=\"pt\", truncation=True, padding=True)\n",
    "        # Provide decoder_input_ids equal to input_ids for teacher forcing\n",
    "        batch_outputs = model_act(\n",
    "            input_ids=inputs.input_ids,\n",
    "            attention_mask=inputs.attention_mask,\n",
    "            decoder_input_ids=inputs.input_ids\n",
    "        )\n",
    "\n",
    "# Freeze il modello calibrato \n",
    "freeze(model_act)\n",
    "qmodel_act = model_act\n",
    "\n",
    "# Calcola la nuova dimensione del modello e generazione di un esempio\n",
    "size_act = sum(compute_module_sizes(qmodel_act).values()) / 1024**3\n",
    "print(f\"Dimensione del modello calibrato INT8: {size_act:.2f} GB\")\n",
    "# Usa generate per produrre testo\n",
    "# print(\"Generazione di esempio dopo la quantizzazione delle attivazioni:\", sample_text(qmodel_act))\n",
    "\n",
    "# Nota:\n",
    "# - Abbiamo passato solo `decoder_input_ids` per la calibrazione, il che potrebbe non catturare completamente la dinamica del decoder durante la generazione del testo.\n",
    "# - La calibrazione su output teacher-forced può lasciare il modello impreparato per la generazione libera, portando a risultati privi di senso.\n",
    "\n"
   ]
  },
  {
   "cell_type": "markdown",
   "metadata": {},
   "source": [
    "## 4. Quantization-Aware Training (QAT)\n",
    "Il quantization-aware training intreccia la quantizzazione durante il training in modo che il modello impari ad adattarsi alla precisione inferiore.\n",
    "\n",
    "**Concetto chiave:** Mantenere due set di pesi:\n",
    "- **Pesi float:** usati per gli aggiornamenti dei gradienti.\n",
    "- **Pesi fake-quantizzati:** usati nel forward per simulare il comportamento INT8.\n",
    "\n",
    "Durante il backprop, i gradienti scorrono attraverso la fake quantization (\"Straight-Through Estimator\") per aggiornare i pesi float.\n",
    "\n",
    "**Fasi principali:**\n",
    "1. Inserire wrapper di quant/dequant intorno ai layer chiave.\n",
    "2. Eseguire il training; il forward usa pesi quantizzati, il backward aggiorna pesi float.\n",
    "3. Esportare i pesi finali quantizzandoli.\n"
   ]
  },
  {
   "cell_type": "markdown",
   "metadata": {},
   "source": [
    "## 5. Quantizzazione SOTA recente in LLMs\n",
    "\n",
    "| Method   | Bits | Key Idea                                    | Calibration? | Summary                                                                                         | Paper Link                                      |\n",
    "|----------|------|---------------------------------------------|--------------|-------------------------------------------------------------------------------------------------|--------------------------------------------------|\n",
    "| LLM.INT8 | 8    | Outlier-aware two-stage (detect & scale)    | No           | Detects and rescales rare large weights (outliers) to minimize distortion.                       | [LLM.INT8](https://arxiv.org/abs/2208.07339)      |\n",
    "| QLoRA    | 4    | LoRA adapters + QAT at 4-bit                | No           | Fine-tunes low-rank adapters on a quantized model to recover performance in 4-bit precision.      | [QLoRA](https://arxiv.org/abs/2305.14314)        |\n",
    "| AWQ      | 4    | Per-channel activation-aware scaling        | Yes          | Learns per-channel scales based on activation statistics, improving INT4/INT8 accuracy.          | [AWQ](https://arxiv.org/abs/2306.00978)         |\n",
    "| GPTQ     | 4    | Hessian-aware greedy rounding               | No           | Uses Hessian information to guide greedy weight rounding, preserving model loss surface.          | [GPTQ](https://arxiv.org/abs/2210.17323)     |\n",
    "| HQQ      | 2    | Hybrid quant + learned reconstruction       | Yes          | Combines coarse quantization with reconstruction layers to achieve robust 2-bit representation. | [HQQ](https://mobiusml.github.io/hqq_blog/)         |\n",
    "| QuIP     | 2    | Importance-based pruning + quantization     | Yes          | Prunes negligible weights based on importance, then applies quantization to remaining ones.       | [QuIP](https://arxiv.org/abs/2307.13304)        |\n",
    "\n",
    "\n",
    "> **Suggerimento:** Molti di questi metodi includono implementazioni open-source; sperimenta con modelli piccoli per familiarizzare con le pipeline.\n"
   ]
  },
  {
   "cell_type": "markdown",
   "metadata": {},
   "source": [
    "## 6. Conclusioni & Riferimenti\n",
    "\n",
    "**Punti chiave:**\n",
    "- La quantizzazione lineare (FP32→INT8) offre vantaggi significativi in memoria e calcolo con formule semplici.\n",
    "- `quanto` automatizza la quantizzazione dei pesi; la calibrazione affina ulteriormente le attivazioni.\n",
    "- Il QAT integra la quantizzazione nel training per ridurre l'errore.\n",
    "- La quantizzazione SOTA per LLM varia da 8-bit a 2-bit, bilanciando dimensione e accuratezza.\n",
    "\n",
    "**Riferimenti:**\n",
    "1. T. Dettmers, \"LLM.INT8: Outlier-aware Quantization\" (Aug 2022)\n",
    "2. T. Dettmers, \"QLoRA: 4-bit LoRA Fine-tuning\" (May 2023)\n",
    "3. R. Fan et al., \"AWQ: Activation-Aware Quantization\" (2024)\n",
    "4. A. Frantar et al., \"GPTQ: Optimal Brain Quantization\" (2023)\n",
    "5. H. Badri et al., \"HQQ: Hybrid Quantization with Reconstruction\" (Nov 2023)\n",
    "6. R. Tseng et al., \"QuIP: Quantization via Importance-based Pruning\" (Jul 2023)\n"
   ]
  }
 ],
 "metadata": {
  "kernelspec": {
   "display_name": "Python 3 (ipykernel)",
   "language": "python",
   "name": "python3"
  },
  "language_info": {
   "codemirror_mode": {
    "name": "ipython",
    "version": 3
   },
   "file_extension": ".py",
   "mimetype": "text/x-python",
   "name": "python",
   "nbconvert_exporter": "python",
   "pygments_lexer": "ipython3",
   "version": "3.9.21"
  }
 },
 "nbformat": 4,
 "nbformat_minor": 4
}
