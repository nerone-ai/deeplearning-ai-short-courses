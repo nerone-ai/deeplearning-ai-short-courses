{
 "cells": [
  {
   "cell_type": "markdown",
   "metadata": {},
   "source": [
    "# Fondamenti di Quantizzazione con Hugging Face\n",
    "\n",
    "## Lezione 1: Cos'è la auantizzazione e perché è importante?\n",
    "\n",
    "### Motivazione\n",
    "\n",
    "La quantizzazione è il processo di conversione dei pesi e delle attivazioni del modello da alta precisione (ad esempio FP32) a formati a precisione ridotta (ad esempio INT8).\n",
    "\n",
    "#### Perché Quantizzare?\n",
    "- Riduzione dei requisiti di memoria e di calcolo\n",
    "- Permette di eseguire modelli di grandi dimensioni su dispositivi edge o macchine locali\n",
    "- Degradazione delle prestazioni minima se eseguita correttamente\n",
    "\n",
    "### Il Problema\n",
    "- **Le dimensioni dei modelli continuano ad aumentare** — il paper SmoothQuant del 2022 (Fig. 1) mostra il gap tra la dimensione del modello e l'aumento della memoria degli acceleratori. [Leggi il paper](https://arxiv.org/abs/2211.10438)\n",
    "\n",
    "- Nel periodo 2023–2024, i modelli di linguaggio di grandi dimensioni (LLM) comunemente usati variano molto in termini di dimensioni:\n",
    "  - GPT-3 (175 miliardi di parametri)\n",
    "  - MT-NLG (530 miliardi di parametri, non 70 miliardi)\n",
    "  - LLaMA-2-13B, 34B, ecc.\n",
    "\n",
    "> 📉 Obiettivo: **Rendere i modelli accessibili** tramite compressione del modello\n",
    "\n",
    "Tipi di compressione del modello:\n",
    "- **Pruning** (non trattato in questo corso)\n",
    "- **Knowledge Distillation** (non trattata in questo corso)\n",
    "- **Quantizzazione** (focus di questo corso)\n",
    "\n",
    "> Per un approfondimento sulle tecniche di compressione dei modelli, inclusi pruning e knowledge distillation, è disponibile online il corso del MIT: [https://hanlab.mit.edu/courses/2024-fall-65940]\n"
   ]
  },
  {
   "cell_type": "markdown",
   "metadata": {},
   "source": [
    "## Lezione 2: Tipi di Dati & Quantizzazione Lineare\n",
    "\n",
    "Installa e importa le dipendenze.\n"
   ]
  },
  {
   "cell_type": "code",
   "execution_count": 1,
   "metadata": {},
   "outputs": [],
   "source": [
    "# Versione di torch consigliata per questo corso\n",
    "#!pip install torch==2.1.1\n",
    "#!pip install matplotlib\n",
    "#!pip install numpy\n"
   ]
  },
  {
   "cell_type": "code",
   "execution_count": 2,
   "metadata": {},
   "outputs": [],
   "source": [
    "import torch\n",
    "import matplotlib.pyplot as plt\n",
    "import numpy as np"
   ]
  },
  {
   "cell_type": "markdown",
   "metadata": {},
   "source": [
    "### Comprensione dei Tipi di Dati\n",
    "\n",
    "#### Interi (Non firmati e Firmati)\n",
    "Nel deep learning e nel calcolo numerico, scegliere il tipo di dato appropriato è fondamentale per bilanciare precisione e efficienza di calcolo. Ecco i tipi di interi più comuni in PyTorch:\n",
    "\n",
    "- **`torch.uint8`** (intero unsigned a 8 bit): valori da **0 a 255**\n",
    "- **`torch.int8`** (intero signed a 8 bit): valori da **-128 a 127**\n",
    "- **`torch.int16`** (intero signed a 16 bit): valori da **-32.768 a 32.767**\n",
    "- **`torch.int32`** (intero signed a 32 bit): valori da **-2.147.483.648 a 2.147.483.647**\n",
    "- **`torch.int64`** (intero signed a 64 bit): valori da **-9.2e18 a 9.2e18**\n"
   ]
  },
  {
   "cell_type": "code",
   "execution_count": 3,
   "metadata": {},
   "outputs": [
    {
     "name": "stdout",
     "output_type": "stream",
     "text": [
      "int8:  iinfo(min=-128, max=127, dtype=int8)\n",
      "int16: iinfo(min=-32768, max=32767, dtype=int16)\n",
      "int32: iinfo(min=-2.14748e+09, max=2.14748e+09, dtype=int32)\n",
      "int64: iinfo(min=-9.22337e+18, max=9.22337e+18, dtype=int64)\n"
     ]
    }
   ],
   "source": [
    "print(\"int8: \", torch.iinfo(torch.int8))\n",
    "print(\"int16:\", torch.iinfo(torch.int16))\n",
    "print(\"int32:\", torch.iinfo(torch.int32))\n",
    "print(\"int64:\", torch.iinfo(torch.int64))"
   ]
  },
  {
   "cell_type": "markdown",
   "metadata": {},
   "source": [
    "### Rappresentazione in Virgola Mobile\n",
    "\n",
    "Ogni numero in virgola mobile ha:\n",
    "- **Segno (1 bit)**: determina se è positivo o negativo\n",
    "- **Esponente**: controlla l'intervallo dei valori rappresentabili\n",
    "- **Frazione (Mantissa)**: controlla la precisione\n",
    "\n",
    "#### Formati FP e Struttura\n",
    "- **FP32**: 1 bit di segno, 8 bit di esponente, 23 bit di frazione → standard per l'addestramento\n",
    "- **FP16**: 1 bit di segno, 5 bit di esponente, 10 bit di frazione → utilizzato nella precisione mista\n",
    "- **BF16**: 1 bit di segno, 8 bit di esponente, 7 bit di frazione → intervallo più ampio, meno precisione rispetto a FP16\n"
   ]
  },
  {
   "cell_type": "code",
   "execution_count": 4,
   "metadata": {},
   "outputs": [
    {
     "name": "stdout",
     "output_type": "stream",
     "text": [
      "torch.float64 (doppia precisione):\n",
      "finfo(resolution=1e-15, min=-1.79769e+308, max=1.79769e+308, eps=2.22045e-16, smallest_normal=2.22507e-308, tiny=2.22507e-308, dtype=float64)\n",
      "\n",
      "torch.float32 (precisione singola):\n",
      "finfo(resolution=1e-06, min=-3.40282e+38, max=3.40282e+38, eps=1.19209e-07, smallest_normal=1.17549e-38, tiny=1.17549e-38, dtype=float32)\n",
      "\n",
      "torch.float16 (mezza precisione):\n",
      "finfo(resolution=0.001, min=-65504, max=65504, eps=0.000976562, smallest_normal=6.10352e-05, tiny=6.10352e-05, dtype=float16)\n",
      "\n",
      "torch.bfloat16 (virgola mobile BF16):\n",
      "finfo(resolution=0.01, min=-3.38953e+38, max=3.38953e+38, eps=0.0078125, smallest_normal=1.17549e-38, tiny=1.17549e-38, dtype=bfloat16)\n"
     ]
    }
   ],
   "source": [
    "# Mostra le informazioni sui numeri in virgola mobile: precisione, valori minimi/massimi per ogni tipo\n",
    "print(\"torch.float64 (doppia precisione):\")\n",
    "print(torch.finfo(torch.float64))\n",
    "print(\"\\ntorch.float32 (precisione singola):\")\n",
    "print(torch.finfo(torch.float32))\n",
    "print(\"\\ntorch.float16 (mezza precisione):\")\n",
    "print(torch.finfo(torch.float16))\n",
    "print(\"\\ntorch.bfloat16 (virgola mobile BF16):\")\n",
    "print(torch.finfo(torch.bfloat16))\n"
   ]
  },
  {
   "cell_type": "markdown",
   "metadata": {},
   "source": [
    "Questo output mostra, per ogni tipo di dato:\n",
    "- **Precisione**: quanto finemente i valori possono essere distinti\n",
    "- **Valori minimo e massimo**: l'intervallo di numeri che questo tipo può rappresentare\n",
    "- **Epsilon (`eps`)**: il numero positivo più piccolo tale che `1.0 + eps != 1.0` — una misura della precisione numerica\n",
    "\n",
    "Questo aiuta a comprendere i compromessi tra precisione e intervallo nei vari tipi in virgola mobile.\n"
   ]
  },
  {
   "cell_type": "markdown",
   "metadata": {},
   "source": [
    "### Infografica: Struttura del Formato in Virgola Mobile\n",
    "\n",
    "Per comprendere la struttura dei vari tipi in virgola mobile, ecco un confronto visivo di come è distribuita la larghezza totale in bit:\n"
   ]
  },
  {
   "cell_type": "code",
   "execution_count": 5,
   "metadata": {},
   "outputs": [
    {
     "data": {
      "image/png": "[encoded data removed]",
      "text/plain": [
       "<Figure size 1000x400 with 1 Axes>"
      ]
     },
     "metadata": {},
     "output_type": "display_data"
    }
   ],
   "source": [
    "import matplotlib.pyplot as plt\n",
    "import numpy as np\n",
    "\n",
    "labels = ['Sign', 'Exponent', 'Fraction']\n",
    "colors = ['#1f77b4', '#ff7f0e', '#2ca02c']  # consistent colors for each section\n",
    "bit_sizes = {\n",
    "    'FP32': [1, 8, 23],\n",
    "    'FP16': [1, 5, 10],\n",
    "    'BF16': [1, 8, 7]\n",
    "}\n",
    "\n",
    "fig, ax = plt.subplots(figsize=(10, 4))\n",
    "for i, (key, sizes) in enumerate(bit_sizes.items()):\n",
    "    left = 0\n",
    "    for j, size in enumerate(sizes):\n",
    "        ax.barh(i, size, left=left, color=colors[j], edgecolor='black', label=labels[j] if i == 0 else \"\")\n",
    "        left += size\n",
    "\n",
    "ax.set_yticks(np.arange(len(bit_sizes)))\n",
    "ax.set_yticklabels(bit_sizes.keys())\n",
    "ax.set_xlabel('Bit Width')\n",
    "ax.legend(loc='upper center', bbox_to_anchor=(0.5, -0.15), ncol=3)\n",
    "ax.set_title(\"Floating Point Format Bit Layout\")\n",
    "ax.grid(axis='x', linestyle='--', alpha=0.7)\n",
    "plt.tight_layout()\n",
    "plt.show()"
   ]
  },
  {
   "cell_type": "markdown",
   "metadata": {},
   "source": [
    "### Downcasting: Cos'è e perché è importante?\n",
    "\n",
    "**Downcasting** è il processo di conversione dei dati da un formato ad alta precisione a un formato a precisione inferiore, spesso utilizzato nel training per ottimizzare l'uso della memoria e accelerare il calcolo.\n",
    "\n",
    "#### Vantaggi del Downcasting:\n",
    "- Riduce l'occupazione di memoria\n",
    "- Permette di fare training di modelli più grandi o utilizzare batch di dimensioni maggiori\n",
    "- Può accelerare il calcolo (a seconda dell'hardware)\n",
    "\n",
    "#### Svantaggi del Downcasting:\n",
    "- Perdita di precisione numerica\n",
    "- Rischio di degradare le prestazioni del modello, soprattutto se applicato in modo troppo aggressivo\n"
   ]
  },
  {
   "cell_type": "code",
   "execution_count": 6,
   "metadata": {},
   "outputs": [
    {
     "name": "stdout",
     "output_type": "stream",
     "text": [
      "Tensore originale (float32), primi 5 elementi: tensor([0.2838, 0.4232, 0.9391, 0.9726, 0.3845])\n",
      "Tensore downcastato (bfloat16), primi 5 elementi: tensor([0.2832, 0.4238, 0.9375, 0.9727, 0.3848], dtype=torch.bfloat16)\n"
     ]
    }
   ],
   "source": [
    "# Esempio: Downcasting in PyTorch\n",
    "\n",
    "# Crea un tensore casuale float32\n",
    "tensor_fp32 = torch.rand(1000, dtype=torch.float32)\n",
    "print(\"Tensore originale (float32), primi 5 elementi:\", tensor_fp32[:5])\n",
    "\n",
    "# Converte in bfloat16\n",
    "tensor_bf16 = tensor_fp32.to(dtype=torch.bfloat16)\n",
    "print(\"Tensore downcastato (bfloat16), primi 5 elementi:\", tensor_bf16[:5])\n"
   ]
  },
  {
   "cell_type": "code",
   "execution_count": 7,
   "metadata": {},
   "outputs": [
    {
     "name": "stdout",
     "output_type": "stream",
     "text": [
      "Prodotto scalare (float32): tensor(334.5880)\n",
      "Prodotto scalare (bfloat16): tensor(334., dtype=torch.bfloat16)\n"
     ]
    }
   ],
   "source": [
    "# Confronto della precisione del prodotto scalare\n",
    "\n",
    "# Calcola il prodotto scalare con float32\n",
    "m_fp32 = torch.dot(tensor_fp32, tensor_fp32)\n",
    "print(\"Prodotto scalare (float32):\", m_fp32)\n",
    "\n",
    "# Calcola il prodotto scalare con bfloat16\n",
    "tensor_bf16 = tensor_fp32.to(dtype=torch.bfloat16)\n",
    "m_bf16 = torch.dot(tensor_bf16, tensor_bf16)\n",
    "print(\"Prodotto scalare (bfloat16):\", m_bf16)\n"
   ]
  },
  {
   "cell_type": "markdown",
   "metadata": {},
   "source": [
    "Nota come la precisione ridotta può alterare leggermente i risultati. Nella pratica, i pesi del modello sono memorizzati e aggiornati in piena precisione (`float32`).\n"
   ]
  }
 ],
 "metadata": {
  "kernelspec": {
   "display_name": "Python (DL_quantization)",
   "language": "python",
   "name": "dl_quantization"
  },
  "language_info": {
   "codemirror_mode": {
    "name": "ipython",
    "version": 3
   },
   "file_extension": ".py",
   "mimetype": "text/x-python",
   "name": "python",
   "nbconvert_exporter": "python",
   "pygments_lexer": "ipython3",
   "version": "3.9.21"
  }
 },
 "nbformat": 4,
 "nbformat_minor": 4
}
